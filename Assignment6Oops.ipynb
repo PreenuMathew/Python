{
 "cells": [
  {
   "cell_type": "markdown",
   "id": "d38348f5-e4e9-4306-acd8-714143545a51",
   "metadata": {},
   "source": [
    "Question 1: (5 Marks)\n",
    "Build a program to manage a university's course catalog. You want to define a base class Course that has the following properties:\n",
    "course_code: a string representing the course code (e.g., \"CS101\")\n",
    "course_name: a string representing the course name (e.g., \"Introduction to Computer Science\")\n",
    "credit_hours: an integer representing the credit hours for the course (e.g., 3)\n",
    "You also want to define two subclasses CoreCourse and ElectiveCourse, which inherit from the Course class.\n",
    "CoreCourse should have an additional property required_for_major which is a boolean representing whether the course is required for a particular major.\n",
    "ElectiveCourse should have an additional property elective_type which is a string representing the type of elective (e.g., \"general\", \"technical\", \"liberal arts\").\n"
   ]
  },
  {
   "cell_type": "code",
   "execution_count": 2,
   "id": "31247375-ad04-40e7-a958-00548d5eb283",
   "metadata": {},
   "outputs": [
    {
     "name": "stdout",
     "output_type": "stream",
     "text": [
      "Course Code: CS101, Course Name: Introduction to Computer Science, Credit Hours: 3, Required for Major: True\n",
      "Course Code: ENG102, Course Name: Creative Writing, Credit Hours: 2, Elective Type: Liberal Arts\n"
     ]
    }
   ],
   "source": [
    "# Base class Course\n",
    "class Course:\n",
    "    def __init__(self, course_code, course_name, credit_hours):\n",
    "        self.course_code = course_code\n",
    "        self.course_name = course_name\n",
    "        self.credit_hours = credit_hours\n",
    "\n",
    "    def __str__(self):\n",
    "        return f\"Course Code: {self.course_code}, Course Name: {self.course_name}, Credit Hours: {self.credit_hours}\"\n",
    "\n",
    "# Subclass CoreCourse\n",
    "class CoreCourse(Course):\n",
    "    def __init__(self, course_code, course_name, credit_hours, required_for_major):\n",
    "        # Calling the parent class \n",
    "        super().__init__(course_code, course_name, credit_hours)\n",
    "        self.required_for_major = required_for_major\n",
    "\n",
    "    def __str__(self):\n",
    "        return f\"{super().__str__()}, Required for Major: {self.required_for_major}\"\n",
    "\n",
    "# Subclass ElectiveCourse\n",
    "class ElectiveCourse(Course):\n",
    "    def __init__(self, course_code, course_name, credit_hours, elective_type):\n",
    "        # Calling the parent class \n",
    "        super().__init__(course_code, course_name, credit_hours)\n",
    "        self.elective_type = elective_type\n",
    "\n",
    "    def __str__(self):\n",
    "        return f\"{super().__str__()}, Elective Type: {self.elective_type}\"\n",
    "if __name__ == \"__main__\":\n",
    "    core_course = CoreCourse(\"CS101\", \"Introduction to Computer Science\", 3, True)\n",
    "    elective_course = ElectiveCourse(\"ENG102\", \"Creative Writing\", 2, \"Liberal Arts\")\n",
    "\n",
    "    print(core_course)\n",
    "    print(elective_course)\n"
   ]
  },
  {
   "cell_type": "markdown",
   "id": "53d5874c-af9d-4744-8063-cb7214fc5262",
   "metadata": {},
   "source": [
    "Question 2: (5 Marks)\n",
    "Create a Python module named employee that contains a class Employee with attributes name, salary and methods get_name() and get_salary(). Write a program to use this module to create an object of the Employee class and display its name and salary.\n"
   ]
  },
  {
   "cell_type": "code",
   "execution_count": 20,
   "id": "61db020f-0e75-4c9a-869e-8831d637b2ba",
   "metadata": {},
   "outputs": [],
   "source": [
    "# employee.py module\n",
    "\n",
    "class Employee:\n",
    "    def __init__(self, name, salary):\n",
    "        self.name = name\n",
    "        self.salary = salary\n",
    "\n",
    "    def get_name(self):\n",
    "        return self.name\n",
    "\n",
    "    def get_salary(self):\n",
    "        return self.salary\n"
   ]
  },
  {
   "cell_type": "code",
   "execution_count": 35,
   "id": "6230237a-6f52-4cd4-b969-1720d479738f",
   "metadata": {},
   "outputs": [
    {
     "name": "stdout",
     "output_type": "stream",
     "text": [
      "Employee Name: John Doe\n",
      "Employee Salary: $50000\n"
     ]
    }
   ],
   "source": [
    "\n",
    "# main.py - Using the Employee class\n",
    "\n",
    "# Creating  an Employee object\n",
    "employee1 = Employee(\"John Doe\", 50000)\n",
    "\n",
    "# Displaying the employee's name and salary\n",
    "print(f\"Employee Name: {employee1.get_name()}\")\n",
    "print(f\"Employee Salary: ${employee1.get_salary()}\")\n"
   ]
  },
  {
   "cell_type": "code",
   "execution_count": null,
   "id": "ae7be2fb-e5e6-4438-83d1-7c791d5750b2",
   "metadata": {},
   "outputs": [],
   "source": []
  },
  {
   "cell_type": "code",
   "execution_count": null,
   "id": "440224b7-849c-403f-9e39-b7ccf1f1aa52",
   "metadata": {},
   "outputs": [],
   "source": []
  }
 ],
 "metadata": {
  "kernelspec": {
   "display_name": "Python [conda env:base] *",
   "language": "python",
   "name": "conda-base-py"
  },
  "language_info": {
   "codemirror_mode": {
    "name": "ipython",
    "version": 3
   },
   "file_extension": ".py",
   "mimetype": "text/x-python",
   "name": "python",
   "nbconvert_exporter": "python",
   "pygments_lexer": "ipython3",
   "version": "3.12.7"
  }
 },
 "nbformat": 4,
 "nbformat_minor": 5
}
