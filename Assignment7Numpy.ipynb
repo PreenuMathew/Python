{
 "cells": [
  {
   "cell_type": "markdown",
   "id": "b1048002-cbaa-4a38-9b00-21e5070b31b8",
   "metadata": {},
   "source": [
    "Exercise 1:\n",
    "Create a numpy array containing the numbers from 1 to 10, and then reshape it to a 2x5 matrix.\n"
   ]
  },
  {
   "cell_type": "code",
   "execution_count": 1,
   "id": "92b189ac-edad-43c3-a809-d02dbc8ac5ef",
   "metadata": {},
   "outputs": [
    {
     "name": "stdout",
     "output_type": "stream",
     "text": [
      "[[ 1  2  3  4  5]\n",
      " [ 6  7  8  9 10]]\n"
     ]
    }
   ],
   "source": [
    "import numpy as np\n",
    "\n",
    "# Creating the NumPy array with numbers from 1 to 10\n",
    "arr = np.arange(1, 11)\n",
    "\n",
    "# Reshapping it to  the array to a 2x5 matrix\n",
    "reshaped_arr = arr.reshape(2, 5) # two row and 5 coloumn\n",
    "\n",
    "# Display the reshaped array\n",
    "print(reshaped_arr)"
   ]
  },
  {
   "cell_type": "markdown",
   "id": "89c0e832-8e93-4a20-a778-9de9c4ed66f1",
   "metadata": {},
   "source": [
    "Exercise 2:\n",
    "Create a numpy array containing the numbers from 1 to 20, and then extract the elements between the 5th and 15th index.\n"
   ]
  },
  {
   "cell_type": "code",
   "execution_count": 4,
   "id": "33b9f7bf-f84b-4f9c-acd5-11b16392401b",
   "metadata": {},
   "outputs": [
    {
     "name": "stdout",
     "output_type": "stream",
     "text": [
      "[ 6  7  8  9 10 11 12 13 14 15 16]\n"
     ]
    }
   ],
   "source": [
    "import numpy as np\n",
    "\n",
    "# Creating a NumPy array with numbers from 1 to 20\n",
    "arr = np.arange(1, 21)\n",
    "\n",
    "# Extracting the  elements between the 5th and 15th index (inclusive of 5th, exclusive of 15th)\n",
    "extracted_elements = arr[5:16]\n",
    "\n",
    "# Displaying  the extracted elements\n",
    "print(extracted_elements)\n"
   ]
  },
  {
   "cell_type": "markdown",
   "id": "a6f54129-cc1c-4e1f-a9b4-33d22eabc7af",
   "metadata": {},
   "source": [
    "Exercise 3: \n",
    "Create a Pandas series with the following data: {'apples': 3, 'bananas': 2, 'oranges': 1}. Then, add a new item to the series with the key 'pears' and the value 4.\n"
   ]
  },
  {
   "cell_type": "code",
   "execution_count": 29,
   "id": "099c820a-6cab-49a6-bce2-50efd5ddad66",
   "metadata": {},
   "outputs": [
    {
     "name": "stdout",
     "output_type": "stream",
     "text": [
      "the first series:\n",
      " apples     3\n",
      "bananas    2\n",
      "oranges    1\n",
      "dtype: int64\n",
      "The updated series:\n",
      " apples     3\n",
      "bananas    2\n",
      "oranges    1\n",
      "pears      4\n",
      "dtype: int64\n"
     ]
    }
   ],
   "source": [
    "import pandas as pd\n",
    "\n",
    "# Create series\n",
    "fruit_series = pd.Series({'apples': 3, 'bananas': 2, 'oranges': 1})\n",
    "print(f'the first series:\\n',fruit_series)\n",
    "# Add a new item to the series\n",
    "fruit_series['pears'] = 4\n",
    "\n",
    "# Display the updated series\n",
    "print(f'The updated series:\\n',fruit_series)\n"
   ]
  },
  {
   "cell_type": "markdown",
   "id": "8489609a-f775-4e78-bcf4-d2a2710aefff",
   "metadata": {},
   "source": [
    "Exercise 4:\n",
    "Create a dataframe with the following columns: name, age, and gender. The dataframe should have 10 rows of data.\n"
   ]
  },
  {
   "cell_type": "code",
   "execution_count": 20,
   "id": "563ba6b4-6634-42b1-93cd-f111d0dcdf4b",
   "metadata": {},
   "outputs": [
    {
     "name": "stdout",
     "output_type": "stream",
     "text": [
      "      name  age gender\n",
      "0    Alice   23      F\n",
      "1      Bob   34      M\n",
      "2  Charlie   45      M\n",
      "3     Dave   22      M\n",
      "4      Eva   29      F\n",
      "5    Frank   41      M\n",
      "6    Grace   35      F\n",
      "7   Hannah   27      F\n",
      "8     Irin   31      F\n",
      "9     Jack   28      M\n"
     ]
    }
   ],
   "source": [
    "# Data for the DataFrame\n",
    "data = {\n",
    "    'name': ['Alice', 'Bob', 'Charlie', 'Dave', 'Eva', 'Frank', 'Grace', 'Hannah', 'Irin', 'Jack'],\n",
    "    'age': [23, 34, 45, 22, 29, 41, 35, 27, 31, 28],\n",
    "    'gender': ['F', 'M', 'M', 'M', 'F', 'M', 'F', 'F', 'F', 'M']\n",
    "}\n",
    "\n",
    "# Create the DataFrame\n",
    "df = pd.DataFrame(data)\n",
    "\n",
    "# Display the DataFrame\n",
    "print(df)\n"
   ]
  },
  {
   "cell_type": "markdown",
   "id": "44efe510-f31f-4c35-a969-d3cd9bd1e2ed",
   "metadata": {},
   "source": [
    "Exercise 5:\n",
    "Add a new column to the data frame created in question 1, called occupation. The values for this column should be Programmer, Manager, and Analyst, corresponding to the rows in the dataframe.\n"
   ]
  },
  {
   "cell_type": "code",
   "execution_count": 32,
   "id": "0d5e142e-f04b-4a21-bdf0-8cc121a79ef6",
   "metadata": {},
   "outputs": [
    {
     "name": "stdout",
     "output_type": "stream",
     "text": [
      "First dataframe:\n",
      "       name  age gender\n",
      "0    Alice   23      F\n",
      "1      Bob   34      M\n",
      "2  Charlie   45      M\n",
      "3     Dave   22      M\n",
      "4      Eva   29      F\n",
      "5    Frank   41      M\n",
      "6    Grace   35      F\n",
      "7   Hannah   27      F\n",
      "8     Irin   31      F\n",
      "9     Jack   28      M\n",
      "The updated dataframe :\n",
      "       name  age gender  occupation\n",
      "0    Alice   23      F  Programmer\n",
      "1      Bob   34      M     Manager\n",
      "2  Charlie   45      M     Analyst\n",
      "3     Dave   22      M  Programmer\n",
      "4      Eva   29      F     Manager\n",
      "5    Frank   41      M     Analyst\n",
      "6    Grace   35      F  Programmer\n",
      "7   Hannah   27      F     Manager\n",
      "8     Irin   31      F     Analyst\n",
      "9     Jack   28      M  Programmer\n"
     ]
    }
   ],
   "source": [
    "# Data\n",
    "data = {\n",
    "    'name': ['Alice', 'Bob', 'Charlie', 'Dave', 'Eva', 'Frank', 'Grace', 'Hannah', 'Irin', 'Jack'],\n",
    "    'age': [23, 34, 45, 22, 29, 41, 35, 27, 31, 28],\n",
    "    'gender': ['F', 'M', 'M', 'M', 'F', 'M', 'F', 'F', 'F', 'M']\n",
    "}\n",
    "\n",
    "# Create the DataFrame\n",
    "df = pd.DataFrame(data)\n",
    "print(f'First dataframe:\\n',df)\n",
    "\n",
    "# Add the new 'occupation' column\n",
    "df['occupation'] = ['Programmer', 'Manager', 'Analyst', 'Programmer', 'Manager', \n",
    "                     'Analyst', 'Programmer', 'Manager', 'Analyst', 'Programmer']\n",
    "\n",
    "print(f'The updated dataframe :\\n',df)\n"
   ]
  },
  {
   "cell_type": "markdown",
   "id": "7df957a8-07c7-47be-bdbe-5e41f09a0890",
   "metadata": {},
   "source": [
    "Exercise 6: \n",
    "Select the rows of the dataframe where the age is greater than or equal to 30."
   ]
  },
  {
   "cell_type": "code",
   "execution_count": 34,
   "id": "ca790400-ae57-4a60-8038-585d070fc4b2",
   "metadata": {},
   "outputs": [
    {
     "name": "stdout",
     "output_type": "stream",
     "text": [
      "      name  age gender\n",
      "1      Bob   34      M\n",
      "2  Charlie   45      M\n",
      "5    Frank   41      M\n",
      "6    Grace   35      F\n",
      "8     Irin   31      F\n"
     ]
    }
   ],
   "source": [
    "# Create the DataFrame\n",
    "df = pd.DataFrame(data) #using the perivous data\n",
    "\n",
    "# Select rows where age is greater than or equal to 30\n",
    "df_age_30_plus = df[df['age'] >= 30]\n",
    "\n",
    "# Display the filtered DataFrame\n",
    "print(df_age_30_plus)\n"
   ]
  },
  {
   "cell_type": "markdown",
   "id": "026b58a9-4ebe-4323-b097-2fa3d8fa160d",
   "metadata": {},
   "source": [
    "Exercise 7:\n",
    "Convert this dataframe to a csv file and read that csv file, finally display the contents."
   ]
  },
  {
   "cell_type": "code",
   "execution_count": 37,
   "id": "5e28e0cf-52e6-478d-ba20-07e9e55d6afa",
   "metadata": {},
   "outputs": [
    {
     "name": "stdout",
     "output_type": "stream",
     "text": [
      "      name  age gender\n",
      "0    Alice   23      F\n",
      "1      Bob   34      M\n",
      "2  Charlie   45      M\n",
      "3     Dave   22      M\n",
      "4      Eva   29      F\n",
      "5    Frank   41      M\n",
      "6    Grace   35      F\n",
      "7   Hannah   27      F\n",
      "8     Irin   31      F\n",
      "9     Jack   28      M\n"
     ]
    }
   ],
   "source": [
    "\n",
    "# Create the DataFrame\n",
    "df = pd.DataFrame(data)\n",
    "\n",
    "# Convert the DataFrame to a CSV file\n",
    "df.to_csv('employee_data.csv', index=False)\n",
    "\n",
    "# Read the CSV file back into a DataFrame\n",
    "df_from_csv = pd.read_csv('employee_data.csv')\n",
    "\n",
    "# Display the contents of the DataFrame\n",
    "print(df_from_csv)\n"
   ]
  },
  {
   "cell_type": "code",
   "execution_count": null,
   "id": "2cc0efc5-3a47-44f5-9dbd-e79d554e407c",
   "metadata": {},
   "outputs": [],
   "source": []
  }
 ],
 "metadata": {
  "kernelspec": {
   "display_name": "Python [conda env:base] *",
   "language": "python",
   "name": "conda-base-py"
  },
  "language_info": {
   "codemirror_mode": {
    "name": "ipython",
    "version": 3
   },
   "file_extension": ".py",
   "mimetype": "text/x-python",
   "name": "python",
   "nbconvert_exporter": "python",
   "pygments_lexer": "ipython3",
   "version": "3.12.7"
  }
 },
 "nbformat": 4,
 "nbformat_minor": 5
}
