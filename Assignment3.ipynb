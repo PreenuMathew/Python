{
 "cells": [
  {
   "cell_type": "markdown",
   "id": "b5f34969-feee-4e34-a846-8334f8b13c48",
   "metadata": {},
   "source": [
    "Exercise 1\n",
    "Name your file: MonthNames.py\n",
    "Write a program that reads an integer value between 1 and 12 from the user and prints output the corresponding month of the year.\n",
    "An example run of the program (numbers in bold are typed in by the user)\n",
    "Enter the month: 3\n",
    "Month 3 is March"
   ]
  },
  {
   "cell_type": "code",
   "execution_count": 10,
   "id": "fc00946b-0fb1-4ef0-8261-bf628b98fe2a",
   "metadata": {},
   "outputs": [
    {
     "name": "stdin",
     "output_type": "stream",
     "text": [
      "Enter the month:  3\n"
     ]
    },
    {
     "name": "stdout",
     "output_type": "stream",
     "text": [
      "Month 3 is March\n"
     ]
    }
   ],
   "source": [
    "# MonthNames.py\n",
    "\n",
    "# Creating a list of month names\n",
    "months = [\n",
    "    \"January\", \"February\", \"March\", \"April\", \"May\", \"June\", \n",
    "    \"July\", \"August\", \"September\", \"October\", \"November\", \"December\"\n",
    "]\n",
    "\n",
    "# Reading an integer from the user\n",
    "month_number = int(input(\"Enter the month: \"))\n",
    "\n",
    "# Checking if the entered number is between 1 and 12\n",
    "if 1 <= month_number <= 12:\n",
    "    # Outputting the corresponding month\n",
    "    print(f\"Month {month_number} is {months[month_number - 1]}\")\n",
    "else:\n",
    "    print(\"Invalid month number! Please enter a number between 1 and 12.\")\n"
   ]
  },
  {
   "cell_type": "markdown",
   "id": "b0e065ec-2a86-4ad1-aa46-a6e4f5821c13",
   "metadata": {},
   "source": [
    "Exercise 2\n",
    "A certain cinema currently sells tickets for a full price of 6 pounds, but always sells tickets for half price to people who are less than 16 years old, and for a third of the price for people who are 60 years old or more.\n",
    "An example run of the program (numbers in bold are typed in by the user)\n",
    "Enter your age: 63\n",
    "Your ticket costs £2.00\n"
   ]
  },
  {
   "cell_type": "code",
   "execution_count": 13,
   "id": "5c1bd918-9560-4f1c-a62b-51476062ab53",
   "metadata": {},
   "outputs": [
    {
     "name": "stdin",
     "output_type": "stream",
     "text": [
      "Enter your age:  63\n"
     ]
    },
    {
     "name": "stdout",
     "output_type": "stream",
     "text": [
      "Your ticket costs £2.00\n"
     ]
    }
   ],
   "source": [
    "# CinemaTicketPrice.py\n",
    "\n",
    "# Define the full price of the ticket\n",
    "full_price = 6.00\n",
    "\n",
    "# Getting the user's age as input\n",
    "age = int(input(\"Enter your age: \"))\n",
    "\n",
    "#  ticket price based on the age\n",
    "if age < 16:\n",
    "    ticket_price = full_price / 2  # Half price for age under 16\n",
    "elif age >= 60:\n",
    "    ticket_price = full_price / 3  # One third price for age 60 or older\n",
    "else:\n",
    "    ticket_price = full_price  # Full price for others\n",
    "print(f\"Your ticket costs £{ticket_price:.2f}\")\n"
   ]
  },
  {
   "cell_type": "markdown",
   "id": "a9d54107-6a79-4344-bcf5-3009f0a1daf5",
   "metadata": {},
   "source": [
    "Exercise 3\n",
    "Name your file: BodyMassIndex.py\n",
    "Write a program to calculate your BMI and give weight status. Body Mass Index (BMI) is an internationally used measurement to check if you are a healthy weight for your height.The metric BMI formula accepts weight in kilograms and height in meters:\n",
    "BMI= weight(kg)/height2(m2)\n",
    "BMI Weight Status Categories table\n",
    "BMI range - kg/m2   Category\n",
    "Below 18.5                    Underweight\n",
    "18.5 -24.9         Normal\n",
    "25 - 29.9          Overweight\n",
    "30 & Above     Obese\n",
    "An example run of the program (numbers in bold are typed in by the user)\n",
    "Enter your weight in (kg): 75\n",
    "Enter your height in (m): 1.70\n",
    "Your BMI is: 25.95\n",
    "You are in the “overweight” range.\n",
    "\n"
   ]
  },
  {
   "cell_type": "code",
   "execution_count": 16,
   "id": "b7f3368e-86f7-44a1-acc7-05811567ad02",
   "metadata": {},
   "outputs": [
    {
     "name": "stdin",
     "output_type": "stream",
     "text": [
      "Enter your weight in (kg):  75\n",
      "Enter your height in (m):  1.70\n"
     ]
    },
    {
     "name": "stdout",
     "output_type": "stream",
     "text": [
      "Your BMI is: 25.95\n",
      "You are in the \"Overweight\" range.\n"
     ]
    }
   ],
   "source": [
    "# BodyMassIndex.py\n",
    "\n",
    "# Get user's weight in kilograms and height in meters\n",
    "weight = float(input(\"Enter your weight in (kg): \"))\n",
    "height = float(input(\"Enter your height in (m): \"))\n",
    "\n",
    "# Calculate BMI using the formula\n",
    "bmi = weight / (height ** 2)\n",
    "\n",
    "# Print the calculated BMI\n",
    "print(f\"Your BMI is: {bmi:.2f}\")\n",
    "\n",
    "# Determine the weight status based on the BMI value\n",
    "if bmi < 18.5:\n",
    "    status = \"Underweight\"\n",
    "elif 18.5 <= bmi <= 24.9:\n",
    "    status = \"Normal\"\n",
    "elif 25 <= bmi <= 29.9:\n",
    "    status = \"Overweight\"\n",
    "else:\n",
    "    status = \"Obese\"\n",
    "\n",
    "# Output the BMI category\n",
    "print(f\"You are in the \\\"{status}\\\" range.\")\n"
   ]
  },
  {
   "cell_type": "markdown",
   "id": "2d822251-bd38-4bc4-8da5-f5e2dcdda9ee",
   "metadata": {},
   "source": [
    "Exercise 4\n",
    "Write a Python program to receive 3 numbers from the user and print the greatest among them.\n"
   ]
  },
  {
   "cell_type": "code",
   "execution_count": 23,
   "id": "42421f59-8e17-41c7-89fe-3c7ac5004822",
   "metadata": {},
   "outputs": [
    {
     "name": "stdin",
     "output_type": "stream",
     "text": [
      "Enter the first number:  6\n",
      "Enter the second number:  8\n",
      "Enter the third number:  3\n"
     ]
    },
    {
     "name": "stdout",
     "output_type": "stream",
     "text": [
      "The greatest number among 6.0, 8.0, and 3.0 is: 8.0\n"
     ]
    }
   ],
   "source": [
    "# 3 numbers from the user\n",
    "num1 = float(input(\"Enter the first number: \"))\n",
    "num2 = float(input(\"Enter the second number: \"))\n",
    "num3 = float(input(\"Enter the third number: \"))\n",
    "\n",
    "# Finding the greatest number using the max() function\n",
    "greatest = max(num1, num2, num3)\n",
    "\n",
    "# Printing the greatest number\n",
    "print(f\"The greatest number among {num1}, {num2}, and {num3} is: {greatest}\")\n"
   ]
  },
  {
   "cell_type": "code",
   "execution_count": null,
   "id": "ad79932f-50e2-4418-a17d-b349e452894f",
   "metadata": {},
   "outputs": [],
   "source": [
    "Exercise 5\n",
    "Find the factorial of a given number using loops(note the number is received from the user)\n"
   ]
  },
  {
   "cell_type": "code",
   "execution_count": 26,
   "id": "176e502c-3ef6-4867-af10-b00acc9359de",
   "metadata": {},
   "outputs": [
    {
     "name": "stdin",
     "output_type": "stream",
     "text": [
      "Enter a number to find its factorial:  6\n"
     ]
    },
    {
     "name": "stdout",
     "output_type": "stream",
     "text": [
      "The factorial of 6 is: 720\n"
     ]
    }
   ],
   "source": [
    "\n",
    "num = int(input(\"Enter a number to find its factorial: \"))\n",
    "\n",
    "# Initialize factorial to 1 \n",
    "factorial = 1\n",
    "\n",
    "# Check if the number is negative\n",
    "if num < 0:\n",
    "    print(\"Factorial does not exist for negative numbers.\")\n",
    "else:\n",
    "    # Use a loop to calculate the factorial\n",
    "    for i in range(1, num + 1):\n",
    "        factorial *= i\n",
    "\n",
    "    # Print the calculated factorial\n",
    "    print(f\"The factorial of {num} is: {factorial}\")\n"
   ]
  },
  {
   "cell_type": "markdown",
   "id": "67f91934-0372-47c1-9c7e-02c8777660f8",
   "metadata": {},
   "source": [
    "Exercise 6\n",
    "Reverse a number using while loop\n"
   ]
  },
  {
   "cell_type": "code",
   "execution_count": 32,
   "id": "5b5bfeb8-9170-449c-a11c-e47d6e12a891",
   "metadata": {},
   "outputs": [
    {
     "name": "stdin",
     "output_type": "stream",
     "text": [
      "Enter a number to reverse:  12345\n"
     ]
    },
    {
     "name": "stdout",
     "output_type": "stream",
     "text": [
      "The reversed number is: 54321\n"
     ]
    }
   ],
   "source": [
    "\n",
    "num = int(input(\"Enter a number to reverse: \"))\n",
    "          \n",
    "#variable to store the reversed number\n",
    "reversed_num = 0\n",
    "\n",
    "# Use a while loop to reverse the number\n",
    "while num > 0:\n",
    "    digit = num % 10  # Get the last digit\n",
    "    reversed_num = reversed_num * 10 + digit \n",
    "    num = num // 10  \n",
    "\n",
    "print(f\"The reversed number is: {reversed_num}\")\n"
   ]
  },
  {
   "cell_type": "markdown",
   "id": "0dde62be-0911-4e2d-9a82-edb278d69a22",
   "metadata": {},
   "source": [
    "Exercise 7\n",
    "Finding the multiples of a number using loop"
   ]
  },
  {
   "cell_type": "code",
   "execution_count": 35,
   "id": "44e12aa1-64b1-44e6-9022-e7e6f71c6f34",
   "metadata": {},
   "outputs": [
    {
     "name": "stdin",
     "output_type": "stream",
     "text": [
      "Enter a number to find its multiples:  2\n",
      "Enter the range limit:  50\n"
     ]
    },
    {
     "name": "stdout",
     "output_type": "stream",
     "text": [
      "Multiples of 2 up to 50 are:\n",
      "2\n",
      "4\n",
      "6\n",
      "8\n",
      "10\n",
      "12\n",
      "14\n",
      "16\n",
      "18\n",
      "20\n",
      "22\n",
      "24\n",
      "26\n",
      "28\n",
      "30\n",
      "32\n",
      "34\n",
      "36\n",
      "38\n",
      "40\n",
      "42\n",
      "44\n",
      "46\n",
      "48\n",
      "50\n"
     ]
    }
   ],
   "source": [
    "#  number and the range limit\n",
    "num = int(input(\"Enter a number to find its multiples: \"))\n",
    "limit = int(input(\"Enter the range limit: \"))\n",
    "\n",
    "# Using a loop to find and print the multiples of the given number\n",
    "print(f\"Multiples of {num} up to {limit} are:\")\n",
    "for i in range(1, limit + 1):\n",
    "    if i * num <= limit:\n",
    "        print(i * num)\n",
    "    else:\n",
    "        break\n"
   ]
  },
  {
   "cell_type": "markdown",
   "id": "af336790-85dd-4005-a1d1-2cfa51ee8c34",
   "metadata": {},
   "source": [
    "Exercise 8\n",
    "Write a program to print the inputted value as it is and break the loop if the value is 'done'.\n",
    "Example run of the program\n",
    ":hello there\n",
    "hello there\n",
    ":finished\n",
    "finished\n",
    ":done\n",
    "Done\n"
   ]
  },
  {
   "cell_type": "code",
   "execution_count": 38,
   "id": "781a65e7-84b3-472a-a517-0b0b919104e5",
   "metadata": {},
   "outputs": [
    {
     "name": "stdin",
     "output_type": "stream",
     "text": [
      ": hello there\n"
     ]
    },
    {
     "name": "stdout",
     "output_type": "stream",
     "text": [
      "hello there\n"
     ]
    },
    {
     "name": "stdin",
     "output_type": "stream",
     "text": [
      ": finished\n"
     ]
    },
    {
     "name": "stdout",
     "output_type": "stream",
     "text": [
      "finished\n"
     ]
    },
    {
     "name": "stdin",
     "output_type": "stream",
     "text": [
      ": done\n"
     ]
    },
    {
     "name": "stdout",
     "output_type": "stream",
     "text": [
      "Done\n"
     ]
    }
   ],
   "source": [
    "# Loop to continually ask for input\n",
    "while True:\n",
    "    # Get input from the user\n",
    "    user_input = input(\":\")\n",
    "    \n",
    "    # If the input is 'done', break the loop\n",
    "    if user_input.lower() == 'done':\n",
    "        print(\"Done\")\n",
    "        break\n",
    "    \n",
    "    # Otherwise, print the input\n",
    "    print(user_input)\n"
   ]
  },
  {
   "cell_type": "markdown",
   "id": "1bc67d54-f993-4aec-8e75-a6805e3216a5",
   "metadata": {},
   "source": [
    "Exercise 9\n",
    "Write a program that prints the numbers from 1 to 10. But for multiples of three print \"Fizz\" instead of the number and for the multiple of five print \"Buzz\". For numbers which are multiples of both three and five print \"FizzBuzz\""
   ]
  },
  {
   "cell_type": "code",
   "execution_count": 41,
   "id": "f804e23a-d2b3-4403-a126-3caa7ff07824",
   "metadata": {},
   "outputs": [
    {
     "name": "stdout",
     "output_type": "stream",
     "text": [
      "1\n",
      "2\n",
      "Fizz\n",
      "4\n",
      "Buzz\n",
      "Fizz\n",
      "7\n",
      "8\n",
      "Fizz\n",
      "Buzz\n"
     ]
    }
   ],
   "source": [
    "# Looping through numbers from 1 to 10\n",
    "for num in range(1, 11):\n",
    "    # Check if the number is divisible by both 3 and 5\n",
    "    if num % 3 == 0 and num % 5 == 0:\n",
    "        print(\"FizzBuzz\")\n",
    "    # Check if the number is divisible by 3\n",
    "    elif num % 3 == 0:\n",
    "        print(\"Fizz\")\n",
    "    # Check if the number is divisible by 5\n",
    "    elif num % 5 == 0:\n",
    "        print(\"Buzz\")\n",
    "\n",
    "    else:\n",
    "        print(num)\n"
   ]
  },
  {
   "cell_type": "markdown",
   "id": "019bd59e-9610-4e11-bd5b-ebcf25cb3788",
   "metadata": {},
   "source": [
    "Exercise 10\n",
    "Write a program to print the following pattern:\n",
    "\n",
    "5 4 3 2 1\n",
    "4 3 2 1\n",
    "3 2 1\n",
    "2 1\n",
    "1\n"
   ]
  },
  {
   "cell_type": "code",
   "execution_count": 44,
   "id": "7eb0a0c8-499f-426b-83b2-29dc9dfcc6d2",
   "metadata": {},
   "outputs": [
    {
     "name": "stdout",
     "output_type": "stream",
     "text": [
      "5 4 3 2 1 \n",
      "4 3 2 1 \n",
      "3 2 1 \n",
      "2 1 \n",
      "1 \n"
     ]
    }
   ],
   "source": [
    "# Loop to print each row\n",
    "for i in range(5, 0, -1):\n",
    "    for j in range(i, 0, -1):\n",
    "        print(j, end=\" \")  \n",
    "    print()  \n"
   ]
  },
  {
   "cell_type": "code",
   "execution_count": null,
   "id": "60bec756-fad4-4d2b-87fb-d08d20f797d5",
   "metadata": {},
   "outputs": [],
   "source": []
  }
 ],
 "metadata": {
  "kernelspec": {
   "display_name": "Python [conda env:base] *",
   "language": "python",
   "name": "conda-base-py"
  },
  "language_info": {
   "codemirror_mode": {
    "name": "ipython",
    "version": 3
   },
   "file_extension": ".py",
   "mimetype": "text/x-python",
   "name": "python",
   "nbconvert_exporter": "python",
   "pygments_lexer": "ipython3",
   "version": "3.12.7"
  }
 },
 "nbformat": 4,
 "nbformat_minor": 5
}
