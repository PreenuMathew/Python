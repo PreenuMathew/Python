{
 "cells": [
  {
   "cell_type": "markdown",
   "id": "2590144b-f4db-424b-b99f-a8f09d5252ae",
   "metadata": {},
   "source": [
    "Functions In Python"
   ]
  },
  {
   "cell_type": "markdown",
   "id": "82c835d2-b922-461b-845e-f75c0d30d702",
   "metadata": {},
   "source": [
    "1.What does the len() function do in Python? Write a code example using len() to find the length of a list.\n"
   ]
  },
  {
   "cell_type": "code",
   "execution_count": 3,
   "id": "1929366b-4209-4e87-be2b-8e901f068f72",
   "metadata": {},
   "outputs": [
    {
     "name": "stdout",
     "output_type": "stream",
     "text": [
      "The length of the list is: 5\n"
     ]
    }
   ],
   "source": [
    "#In Python, the len() function is used to get the number of items in an object. \n",
    "#It can be used with different types of objects such as strings, lists, tuples.\n",
    "\n",
    "my_list = [10, 20, 30, 40, 50]\n",
    "list_length = len(my_list)\n",
    "\n",
    "print(\"The length of the list is:\", list_length)\n"
   ]
  },
  {
   "cell_type": "markdown",
   "id": "689e363b-4067-424f-9466-c3bbb6517361",
   "metadata": {},
   "source": [
    "2.Write a Python function greet(name) that takes a person's name as input and prints \"Hello, [name]!\".\n"
   ]
  },
  {
   "cell_type": "code",
   "execution_count": 8,
   "id": "f1af96d9-be9d-48d9-9f28-279e54cd003e",
   "metadata": {},
   "outputs": [
    {
     "name": "stdout",
     "output_type": "stream",
     "text": [
      "Hello, Preenu!\n"
     ]
    }
   ],
   "source": [
    "def greet(name):\n",
    "    print(f\"Hello, {name}!\")\n",
    "\n",
    "# Example\n",
    "greet(\"Preenu\")\n"
   ]
  },
  {
   "cell_type": "markdown",
   "id": "bef441f2-65a7-4847-91d6-3f5b32050182",
   "metadata": {},
   "source": [
    "3.Write a Python function find_maximum(numbers) that takes a list of integers and returns the maximum value without using the built-in max() function. \n",
    "Use a loop to iterate through the list and compare values."
   ]
  },
  {
   "cell_type": "code",
   "execution_count": 11,
   "id": "af255842-93be-450f-b071-5462e39ea912",
   "metadata": {},
   "outputs": [
    {
     "name": "stdout",
     "output_type": "stream",
     "text": [
      "The maximum value is: 8\n"
     ]
    }
   ],
   "source": [
    "def find_maximum(numbers):\n",
    "    if len(numbers) == 0:\n",
    "        return None  # empty list \n",
    "    max_value = numbers[0]\n",
    "    for number in numbers:\n",
    "        if number > max_value:\n",
    "            max_value = number\n",
    "\n",
    "    return max_value\n",
    "\n",
    "numbers = [3, 5, 7, 2, 8, 1]\n",
    "print(\"The maximum value is:\", find_maximum(numbers))\n"
   ]
  },
  {
   "cell_type": "markdown",
   "id": "b2c33206-237b-4ccd-83f6-ade8013e8072",
   "metadata": {},
   "source": [
    "4.Explain the difference between local and global variables in a Python function. Write a program where a global variable and a local variable have the same name and show how Python differentiates between them.\n"
   ]
  },
  {
   "cell_type": "markdown",
   "id": "48af763e-7624-4e0c-a587-65fec3828559",
   "metadata": {},
   "source": [
    "Global variables: are defined outside of any function, making them accessible throughout the entire program. They can be accessed and modified by any function.\n",
    "Local variables: are defined inside a function and can only be accessed within that function. They are created when the function is called and are destroyed when the function execution is complete.\n",
    "A global variable is accessible from anywhere in the program.\n",
    "A local variable is only accessible within the function where it is defined."
   ]
  },
  {
   "cell_type": "code",
   "execution_count": 15,
   "id": "5566829c-cb27-4225-a9a1-f9aef2302d20",
   "metadata": {},
   "outputs": [
    {
     "name": "stdout",
     "output_type": "stream",
     "text": [
      "Global x outside the function: 10\n",
      "Local x inside the function: 20\n",
      "Global x after calling the function: 10\n"
     ]
    }
   ],
   "source": [
    "# Global variable\n",
    "x = 10\n",
    "\n",
    "def test_variable():\n",
    "    # Local variable with the same name as the global variable\n",
    "    x = 20 \n",
    "    print(\"Local x inside the function:\", x)\n",
    "\n",
    "#  global variable outside the function\n",
    "print(\"Global x outside the function:\", x)\n",
    "\n",
    "# Call the function for local variable in action\n",
    "test_variable()\n",
    "\n",
    "# calling global variable again to confirm it wasn't changed by the function\n",
    "print(\"Global x after calling the function:\", x)\n"
   ]
  },
  {
   "cell_type": "markdown",
   "id": "bf47a218-c957-4f9d-ae9f-76c57062b762",
   "metadata": {},
   "source": [
    "5.Create a function calculate_area(length, width=5) that calculates the area of a rectangle. If only the length is provided, the function should assume the width is 5. Show how the function behaves when called with and without the width argument.\n"
   ]
  },
  {
   "cell_type": "code",
   "execution_count": 18,
   "id": "c7701fe7-16ae-4555-a739-0435b8da9c32",
   "metadata": {},
   "outputs": [
    {
     "name": "stdout",
     "output_type": "stream",
     "text": [
      "Area with length 10 and width 4: 40\n",
      "Area with length 10 and default width 5: 50\n"
     ]
    }
   ],
   "source": [
    "def calculate_area(length, width=5):\n",
    "    area = length * width\n",
    "    return area\n",
    "\n",
    "# both length and width provided\n",
    "print(\"Area with length 10 and width 4:\", calculate_area(10, 4))\n",
    "\n",
    "# only length provided (width defaults to 5)\n",
    "print(\"Area with length 10 and default width 5:\", calculate_area(10))\n"
   ]
  },
  {
   "cell_type": "code",
   "execution_count": null,
   "id": "6b22187e-e53c-49c0-9d22-af62ad5b0d5c",
   "metadata": {},
   "outputs": [],
   "source": []
  }
 ],
 "metadata": {
  "kernelspec": {
   "display_name": "Python [conda env:base] *",
   "language": "python",
   "name": "conda-base-py"
  },
  "language_info": {
   "codemirror_mode": {
    "name": "ipython",
    "version": 3
   },
   "file_extension": ".py",
   "mimetype": "text/x-python",
   "name": "python",
   "nbconvert_exporter": "python",
   "pygments_lexer": "ipython3",
   "version": "3.12.7"
  }
 },
 "nbformat": 4,
 "nbformat_minor": 5
}
