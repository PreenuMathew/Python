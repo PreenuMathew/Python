{
 "cells": [
  {
   "cell_type": "markdown",
   "id": "c459502e-9991-4434-908c-1ee49656c2a6",
   "metadata": {},
   "source": [
    "1. Write Python code that prints your name, student number and email address.  \n",
    "An example runs of the program:  \n"
   ]
  },
  {
   "cell_type": "code",
   "execution_count": 2,
   "id": "667912ff-0290-4cf7-a123-989cab8f190c",
   "metadata": {},
   "outputs": [
    {
     "name": "stdout",
     "output_type": "stream",
     "text": [
      "Bob ST1001 bob@gmail.com\n"
     ]
    }
   ],
   "source": [
    "print(\"Bob ST1001 bob@gmail.com\")\n"
   ]
  },
  {
   "cell_type": "markdown",
   "id": "e65fa5f5-5d8c-48d3-99be-d849ce2d2cf0",
   "metadata": {},
   "source": [
    "2.Write Python code that prints your name, student number and email address using escape sequences.\n"
   ]
  },
  {
   "cell_type": "code",
   "execution_count": 5,
   "id": "9a103381-1974-4e91-af19-d7e9204d6f1a",
   "metadata": {},
   "outputs": [
    {
     "name": "stdout",
     "output_type": "stream",
     "text": [
      "Bob\tST1001\tbob@gmail.com\n"
     ]
    }
   ],
   "source": [
    "print(\"Bob\\tST1001\\tbob@gmail.com\")\n"
   ]
  },
  {
   "cell_type": "markdown",
   "id": "73dc6c70-cb23-432c-925d-d5174bb19391",
   "metadata": {},
   "source": [
    "3.Write Python code that add, subtract, multiply and divide the two numbers. You can use the two numbers 14 and 7."
   ]
  },
  {
   "cell_type": "code",
   "execution_count": 8,
   "id": "ca080ebb-6b92-4ca8-93f1-dfd345a6eef4",
   "metadata": {},
   "outputs": [
    {
     "name": "stdout",
     "output_type": "stream",
     "text": [
      "14 + 7 = 21\n",
      "14 * 7 = 98\n",
      "14 - 7 = 7\n",
      "14 / 7 = 2.0\n"
     ]
    }
   ],
   "source": [
    "num1 = 14\n",
    "num2 = 7\n",
    "\n",
    "print(f\"{num1} + {num2} = {num1 + num2}\")\n",
    "print(f\"{num1} * {num2} = {num1 * num2}\")\n",
    "print(f\"{num1} - {num2} = {num1 - num2}\")\n",
    "print(f\"{num1} / {num2} = {num1 / num2}\")\n"
   ]
  },
  {
   "cell_type": "markdown",
   "id": "2adc2560-009c-4233-bfac-44dae25c7ef8",
   "metadata": {},
   "source": [
    "4: Display numbers from 1 to 5 as steps"
   ]
  },
  {
   "cell_type": "code",
   "execution_count": 11,
   "id": "34a1bdd9-60b9-42a7-9e06-fc83dc2c821b",
   "metadata": {},
   "outputs": [
    {
     "name": "stdout",
     "output_type": "stream",
     "text": [
      "1\n",
      "2\n",
      "3\n",
      "4\n",
      "5\n"
     ]
    }
   ],
   "source": [
    "for i in range(1, 6):\n",
    "    print(i)\n"
   ]
  },
  {
   "cell_type": "markdown",
   "id": "60eee068-8cb4-4acc-8e3c-d0205aeb38af",
   "metadata": {},
   "source": [
    "5.Write Python code that outputs the following sentence (including the quotation marks and line break) to the screen: \n"
   ]
  },
  {
   "cell_type": "code",
   "execution_count": 16,
   "id": "f81f3585-60d0-4c66-b595-31a671c2c36a",
   "metadata": {},
   "outputs": [
    {
     "name": "stdout",
     "output_type": "stream",
     "text": [
      "\"SDK\" stands for \"Software Development Kit\", whereas\n",
      " \"IDE\" stands for \"Integrated Development Environment\".\n"
     ]
    }
   ],
   "source": [
    "print(\"\\\"SDK\\\" stands for \\\"Software Development Kit\\\", whereas\\n \\\"IDE\\\" stands for \\\"Integrated Development Environment\\\".\")\n"
   ]
  },
  {
   "cell_type": "markdown",
   "id": "8b612383-e80a-4ffa-8755-b31ad2c3c5c4",
   "metadata": {},
   "source": [
    "6.Practice and check the output\n"
   ]
  },
  {
   "cell_type": "code",
   "execution_count": 19,
   "id": "dd146944-5007-44c7-ae78-bf6cfcbc7a1b",
   "metadata": {},
   "outputs": [
    {
     "name": "stdout",
     "output_type": "stream",
     "text": [
      "python is an \"awesome\" language.\n",
      "python\n",
      "\t2023\n",
      "I'm from Entri\n",
      "5\n",
      "e\n",
      "Entri\n",
      "2023\n",
      "Entr2023\n",
      "Entri*20"
     ]
    }
   ],
   "source": [
    "print(\"python is an \\\"awesome\\\" language.\")\n",
    "print(\"python\\n\\t2023\")\n",
    "print('I\\'m from Entri.\\b')\n",
    "print(\"\\65\")   # ASCII value for 65\n",
    "print(\"\\x65\")  # Hexadecimal value for 65\n",
    "print(\"Entri\", \"2023\", sep=\"\\n\")\n",
    "print(\"Entri\", \"2023\", sep=\"\\b\")\n",
    "print(\"Entri\", \"2023\", sep=\"*\", end=\"\\b\\b\\b\\b\")"
   ]
  },
  {
   "cell_type": "markdown",
   "id": "274c9039-0b29-4ac4-beed-fa24c0a6fda5",
   "metadata": {},
   "source": [
    "7.Define the variables below. Print the types of each variable. What is the sum of your variables? (Hint: use a type conversion function.) What datatype is the sum?\n"
   ]
  },
  {
   "cell_type": "code",
   "execution_count": 22,
   "id": "b06fc673-1f91-480a-9ba5-537ffe0db216",
   "metadata": {},
   "outputs": [
    {
     "name": "stdout",
     "output_type": "stream",
     "text": [
      "Type of num: <class 'int'>\n",
      "Type of textnum: <class 'str'>\n",
      "Type of decimal: <class 'float'>\n",
      "The sum of the variables is: 178.3\n",
      "Type of the sum: <class 'float'>\n"
     ]
    }
   ],
   "source": [
    "num = 23\n",
    "textnum = \"57\"\n",
    "decimal = 98.3\n",
    "\n",
    "# Print the types of each variable\n",
    "print(f\"Type of num: {type(num)}\")\n",
    "print(f\"Type of textnum: {type(textnum)}\")\n",
    "print(f\"Type of decimal: {type(decimal)}\")\n",
    "\n",
    "# Convert textnum to integer and calculate sum\n",
    "sum_values = num + int(textnum) + decimal\n",
    "print(f\"The sum of the variables is: {sum_values}\")\n",
    "print(f\"Type of the sum: {type(sum_values)}\")\n"
   ]
  },
  {
   "cell_type": "markdown",
   "id": "b371b364-e518-451e-ad03-40ab6032d7f2",
   "metadata": {},
   "source": [
    "8.calculate the number of minutes in a year using variables for each unit of time. print a statement that describes what your code does also. Create three variables to store no of days in a year, minute in a hour, hours in a day, then calculate the total minutes in a year and print the values\n",
    "(hint) total number of minutes in an year =No.of days in an year * Hours in a day * Minutes in an hour\n"
   ]
  },
  {
   "cell_type": "code",
   "execution_count": 25,
   "id": "da6ff9e3-ae34-47f1-9505-35dc9bb7a15c",
   "metadata": {},
   "outputs": [
    {
     "name": "stdout",
     "output_type": "stream",
     "text": [
      "The total number of minutes in a year is: 525600\n"
     ]
    }
   ],
   "source": [
    "# Defining variables for each unit of time\n",
    "days_in_year = 365\n",
    "hours_in_day = 24\n",
    "minutes_in_hour = 60\n",
    "\n",
    "# Calculate total minutes in a year\n",
    "total_minutes_in_year = days_in_year * hours_in_day * minutes_in_hour\n",
    "print(\"The total number of minutes in a year is:\", total_minutes_in_year)\n"
   ]
  },
  {
   "cell_type": "markdown",
   "id": "7537365e-65da-42a0-a968-06735079aff3",
   "metadata": {},
   "source": [
    "9.Write Python code that asks the user to enter his/her name and then output/prints his/her name with a greeting.\n"
   ]
  },
  {
   "cell_type": "code",
   "execution_count": 30,
   "id": "7d452d3a-d91e-4faf-b971-18bad7c3f55c",
   "metadata": {},
   "outputs": [
    {
     "name": "stdin",
     "output_type": "stream",
     "text": [
      "Please enter your Name: tony\n"
     ]
    },
    {
     "name": "stdout",
     "output_type": "stream",
     "text": [
      "Hi tony,Welcome to Python programming:)\n"
     ]
    }
   ],
   "source": [
    "name = input(\"Please enter your Name:\")\n",
    "print (f'Hi {name},Welcome to Python programming:)')"
   ]
  },
  {
   "cell_type": "markdown",
   "id": "a9273437-be00-42bd-9e57-5d83621f19db",
   "metadata": {},
   "source": [
    "10. Name your file: PoundsToDollars.py\n",
    "Write a program that asks the user to enter an amount in pounds (£) and the program calculates and converts an amount in dollar ($)\n"
   ]
  },
  {
   "cell_type": "code",
   "execution_count": 33,
   "id": "f775f4db-d29a-4361-85be-3e751017ec65",
   "metadata": {},
   "outputs": [
    {
     "name": "stdin",
     "output_type": "stream",
     "text": [
      "Please enter amount in pounds:  120\n"
     ]
    },
    {
     "name": "stdout",
     "output_type": "stream",
     "text": [
      "£120.0 are $163.20\n"
     ]
    }
   ],
   "source": [
    "\n",
    "conversion_rate = 1.36\n",
    "pounds = float(input(\"Please enter amount in pounds: \"))\n",
    "dollars = pounds * conversion_rate\n",
    "print(f\"£{pounds} are ${dollars:.2f}\")\n"
   ]
  },
  {
   "cell_type": "code",
   "execution_count": null,
   "id": "8a22f705-dab2-4ea0-ad71-7ffe9a9fa63c",
   "metadata": {},
   "outputs": [],
   "source": []
  }
 ],
 "metadata": {
  "kernelspec": {
   "display_name": "Python [conda env:base] *",
   "language": "python",
   "name": "conda-base-py"
  },
  "language_info": {
   "codemirror_mode": {
    "name": "ipython",
    "version": 3
   },
   "file_extension": ".py",
   "mimetype": "text/x-python",
   "name": "python",
   "nbconvert_exporter": "python",
   "pygments_lexer": "ipython3",
   "version": "3.12.7"
  }
 },
 "nbformat": 4,
 "nbformat_minor": 5
}
