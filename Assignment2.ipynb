{
 "cells": [
  {
   "cell_type": "markdown",
   "id": "ab96bfb7-c5d5-4e38-adcc-24cb96cd99a7",
   "metadata": {},
   "source": [
    "Topic :List\n",
    "Exercise\n",
    "Q1. Create a list of 5 random numbers and print the list.\n",
    "Q2. Insert 3 new values to the list and print the updated list.\n",
    "Q3. Try to use a for loop to print each element in the list."
   ]
  },
  {
   "cell_type": "code",
   "execution_count": 2,
   "id": "065d9dfe-fff0-4ef0-b816-7ca338f54215",
   "metadata": {},
   "outputs": [
    {
     "name": "stdout",
     "output_type": "stream",
     "text": [
      "The random  list: [3, 98, 67, 45, 34]\n"
     ]
    }
   ],
   "source": [
    "# Creating a list with 5 random numbers\n",
    "random_numbers = [3,98,67,45,34]\n",
    "\n",
    "# Printing the list\n",
    "print(\"The random  list:\", random_numbers)\n"
   ]
  },
  {
   "cell_type": "code",
   "execution_count": 4,
   "id": "8309b1be-d887-4368-935d-1f7f6d21362d",
   "metadata": {},
   "outputs": [
    {
     "name": "stdout",
     "output_type": "stream",
     "text": [
      "Updated list: [3, 98, 67, 45, 34, 10, 22, 103]\n"
     ]
    }
   ],
   "source": [
    "# Inserting 3 new values to the list\n",
    "random_numbers.append(10)  \n",
    "random_numbers.append(22) \n",
    "random_numbers.append(103)\n",
    "# Printing the updated list\n",
    "print(\"Updated list:\", random_numbers)\n"
   ]
  },
  {
   "cell_type": "code",
   "execution_count": 6,
   "id": "2d3e2b66-1c4c-43bb-bb08-1ab59799ac08",
   "metadata": {},
   "outputs": [
    {
     "name": "stdout",
     "output_type": "stream",
     "text": [
      "List elements:\n",
      "3\n",
      "98\n",
      "67\n",
      "45\n",
      "34\n",
      "10\n",
      "22\n",
      "103\n"
     ]
    }
   ],
   "source": [
    "# Using a for loop to print each element in the list\n",
    "print(\"List elements:\")\n",
    "for num in random_numbers:\n",
    "    print(num)\n"
   ]
  },
  {
   "cell_type": "markdown",
   "id": "d92ffebf-7930-42bb-ac71-dc4fc7ebbb17",
   "metadata": {},
   "source": [
    "Topic: Dictionary\n",
    "Exercise \n",
    "Q1. Create a dictionary with keys 'name', 'age', and 'address' and values 'John', 25, and 'New York' respectively.\n",
    "Q2. Add a new key-value pair to the dictionary created in Q1 with key 'phone' and value '1234567890'.\n"
   ]
  },
  {
   "cell_type": "code",
   "execution_count": 11,
   "id": "58b3873a-a051-4975-a616-4fabf6bf2d8d",
   "metadata": {},
   "outputs": [
    {
     "name": "stdout",
     "output_type": "stream",
     "text": [
      "Dictionary created: {'name': 'John', 'age': 25, 'address': 'New York'}\n"
     ]
    }
   ],
   "source": [
    "# Creating a dictionary with the specified keys and values\n",
    "person = {'name': 'John',\n",
    "          'age': 25,\n",
    "          'address': 'New York'}\n",
    "\n",
    "# Printing the dictionary\n",
    "print(\"Dictionary created:\", person)\n"
   ]
  },
  {
   "cell_type": "code",
   "execution_count": 13,
   "id": "04fc2f19-72c9-4806-b75c-0feffad3334b",
   "metadata": {},
   "outputs": [
    {
     "name": "stdout",
     "output_type": "stream",
     "text": [
      "Updated dictionary: {'name': 'John', 'age': 25, 'address': 'New York', 'phone': '1234567890'}\n"
     ]
    }
   ],
   "source": [
    "# Adding a new key-value pair to the dictionary\n",
    "person['phone'] = '1234567890'\n",
    "\n",
    "# Printing the updated dictionary\n",
    "print(\"Updated dictionary:\", person)\n"
   ]
  },
  {
   "cell_type": "markdown",
   "id": "98e4dde0-b270-4953-b329-f8cc2fa24ca3",
   "metadata": {},
   "source": [
    "Topic: Set\n",
    "Exercise  \n",
    "Q1.Create a set with values 1, 2, 3, 4, and 5.\n",
    "Q2. Add the value 6 to the set created in Q1.\n",
    "Q3. Remove the value 3 from the set created in Q1."
   ]
  },
  {
   "cell_type": "code",
   "execution_count": 16,
   "id": "30f631cc-2bed-4ec7-b6ae-4b674480a4f3",
   "metadata": {},
   "outputs": [
    {
     "name": "stdout",
     "output_type": "stream",
     "text": [
      "Set created: {1, 2, 3, 4, 5}\n"
     ]
    }
   ],
   "source": [
    "# Creating a set with the specified values\n",
    "myfirst_set = {1, 2, 3, 4, 5}\n",
    "\n",
    "# Printing the set\n",
    "print(\"Set created:\", myfirst_set)\n"
   ]
  },
  {
   "cell_type": "code",
   "execution_count": 18,
   "id": "daa715c2-6df9-470a-aee0-e417044d9692",
   "metadata": {},
   "outputs": [
    {
     "name": "stdout",
     "output_type": "stream",
     "text": [
      "Set after adding 6: {1, 2, 3, 4, 5, 6}\n"
     ]
    }
   ],
   "source": [
    "# Adding the value 6 to the set\n",
    "myfirst_set.add(6)\n",
    "\n",
    "# Printing the updated set\n",
    "print(\"Set after adding 6:\", myfirst_set)\n"
   ]
  },
  {
   "cell_type": "code",
   "execution_count": 20,
   "id": "edd8a54f-96a1-4f6b-ab4f-1b51f97f21eb",
   "metadata": {},
   "outputs": [
    {
     "name": "stdout",
     "output_type": "stream",
     "text": [
      "Set after removing 3: {1, 2, 4, 5, 6}\n"
     ]
    }
   ],
   "source": [
    "# Removing the value 3 from the set\n",
    "myfirst_set.remove(3)\n",
    "\n",
    "# Printing the updated set\n",
    "print(\"Set after removing 3:\", myfirst_set)\n"
   ]
  },
  {
   "cell_type": "markdown",
   "id": "9f2d6f6e-aa0d-4767-bcb1-59c793f71b74",
   "metadata": {},
   "source": [
    "Topic:Tuple\n",
    "Exercise \n",
    "Q1. Create a tuple with values 1, 2, 3, and 4\n",
    "Q2. Print the length of the tuple created in Q1."
   ]
  },
  {
   "cell_type": "code",
   "execution_count": 24,
   "id": "bbd3d149-e3c2-49f1-81a6-4115a127e667",
   "metadata": {},
   "outputs": [
    {
     "name": "stdout",
     "output_type": "stream",
     "text": [
      "Tuple created: (1, 2, 3, 4)\n"
     ]
    }
   ],
   "source": [
    "# Creating a tuple with the specified values\n",
    "my_tuple = (1, 2, 3, 4)\n",
    "\n",
    "# Printing the tuple\n",
    "print(\"Tuple created:\", my_tuple)\n"
   ]
  },
  {
   "cell_type": "code",
   "execution_count": 26,
   "id": "0e4519eb-71dd-4c7a-88c9-d028afa02afd",
   "metadata": {},
   "outputs": [
    {
     "name": "stdout",
     "output_type": "stream",
     "text": [
      "Length of the tuple: 4\n"
     ]
    }
   ],
   "source": [
    "# Printing the length of the tuple\n",
    "print(\"Length of the tuple:\", len(my_tuple))\n"
   ]
  },
  {
   "cell_type": "code",
   "execution_count": null,
   "id": "0f47f31a-35a7-4326-ab7d-5e05f59c44a2",
   "metadata": {},
   "outputs": [],
   "source": []
  }
 ],
 "metadata": {
  "kernelspec": {
   "display_name": "Python [conda env:base] *",
   "language": "python",
   "name": "conda-base-py"
  },
  "language_info": {
   "codemirror_mode": {
    "name": "ipython",
    "version": 3
   },
   "file_extension": ".py",
   "mimetype": "text/x-python",
   "name": "python",
   "nbconvert_exporter": "python",
   "pygments_lexer": "ipython3",
   "version": "3.12.7"
  }
 },
 "nbformat": 4,
 "nbformat_minor": 5
}
