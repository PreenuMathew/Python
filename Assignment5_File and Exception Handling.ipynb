{
 "cells": [
  {
   "cell_type": "markdown",
   "id": "72fb2ab4-0039-4955-a097-09f05c82ee49",
   "metadata": {},
   "source": [
    "1.Write a Python program to read a file and display its contents\n"
   ]
  },
  {
   "cell_type": "code",
   "execution_count": 55,
   "id": "5f8ac828-917c-4689-aeb6-bbec41a5c7af",
   "metadata": {},
   "outputs": [
    {
     "name": "stdout",
     "output_type": "stream",
     "text": [
      "\t\t\t\tDSML- AN OVERVIEW\n",
      "\n",
      "Data Science and Machine Learning are closely related fields that are increasingly transforming industries by enabling the analysis of vast amounts of data and making intelligent predictions. Here's a short note on each:\n",
      "Data Science:\n",
      "Data Science is an interdisciplinary field that combines statistics, computer science, and domain knowledge to extract insights and knowledge from structured and unstructured data. It involves collecting, cleaning, and analyzing data to solve complex problems. Data scientists use techniques such as data visualization, statistical analysis, and predictive modeling to uncover patterns and trends. Key tools used in data science include programming languages like Python, R, and SQL, as well as technologies like big data platforms and cloud computing.\n",
      "Machine Learning:\n",
      "Machine Learning (ML) is a subset of artificial intelligence (AI) that focuses on building algorithms that allow computers to learn from and make decisions based on data without being explicitly programmed. In ML, models are trained using historical data, and they improve over time by recognizing patterns and making predictions. Types of machine learning include supervised learning, unsupervised learning, and reinforcement learning. Machine learning applications include everything from spam detection to autonomous vehicles and personalized recommendations.\n",
      "Connection:\n",
      "Data Science and Machine Learning often go hand-in-hand. Data science provides the foundation for ML by preparing and analyzing the data, while machine learning techniques enable the development of models that can make data-driven predictions and decisions.\n",
      "\n",
      "\n"
     ]
    }
   ],
   "source": [
    "# Specifying the file path\n",
    "\n",
    "file_path = r\"C:\\Users\\JOJO\\Downloads\\Assignment5python1.txt\"\n",
    "# Open the file in read mode\n",
    "with open(file_path, 'r') as file:\n",
    "    # Read and display the contents of the file\n",
    "    content = file.read()\n",
    "    print(content)\n"
   ]
  },
  {
   "cell_type": "markdown",
   "id": "e64f1134-6e4d-4c9a-876a-1cd36c8c7d9c",
   "metadata": {},
   "source": [
    "Exercise 2:\n",
    "Write a Python program to copy the contents of one file to another file\n",
    "\n"
   ]
  },
  {
   "cell_type": "code",
   "execution_count": 61,
   "id": "3935c296-05ff-4a5a-bf5c-7ed05e796ecb",
   "metadata": {},
   "outputs": [
    {
     "name": "stdout",
     "output_type": "stream",
     "text": [
      "Contents copied from C:\\Users\\JOJO\\Downloads\\Assignment5python1.txt to C:\\Users\\JOJO\\Downloads\\datatransfer.txt\n"
     ]
    }
   ],
   "source": [
    "# Specify the source and destination file paths\n",
    "source_file_path = r\"C:\\Users\\JOJO\\Downloads\\Assignment5python1.txt\" # source file path\n",
    "destination_file_path = r\"C:\\Users\\JOJO\\Downloads\\datatransfer.txt\"  # destination file path\n",
    "\n",
    "# Opening  the source file in read mode and the destination file in write mode to copy the data\n",
    "with open(source_file_path, 'r') as source_file:\n",
    "    with open(destination_file_path, 'w') as destination_file:\n",
    "        \n",
    "        # Reading content from the source file and write it to the destination file\n",
    "        content = source_file.read()\n",
    "        destination_file.write(content)\n",
    "\n",
    "print(f\"Contents copied from {source_file_path} to {destination_file_path}\")\n"
   ]
  },
  {
   "cell_type": "markdown",
   "id": "efeea1da-8e1b-4d96-a3eb-43d56bb7cdff",
   "metadata": {},
   "source": [
    "Exercise 3: \n",
    "Write a Python program to read the content of a file and count the total number of words in that file.\n",
    "\n"
   ]
  },
  {
   "cell_type": "code",
   "execution_count": 64,
   "id": "4fd33de6-8960-47d4-982d-b3596b45fd5e",
   "metadata": {},
   "outputs": [
    {
     "name": "stdout",
     "output_type": "stream",
     "text": [
      "Total number of words in the file: 232\n"
     ]
    }
   ],
   "source": [
    "\n",
    "file_path = r\"C:\\Users\\JOJO\\Downloads\\Assignment5python1.txt\" \n",
    "\n",
    "# Initializing  word count\n",
    "word_count = 0\n",
    "\n",
    "# Opening  the file in read mode\n",
    "with open(file_path, 'r') as file:\n",
    "    # Read the content of the file\n",
    "    content = file.read()\n",
    "\n",
    "# Splitting the content into words and counting  them\n",
    "    words = content.split()\n",
    "    word_count = len(words)\n",
    "\n",
    "# Display the total number of words\n",
    "print(f\"Total number of words in the file: {word_count}\")\n"
   ]
  },
  {
   "cell_type": "markdown",
   "id": "b066934b-a856-4071-8d9f-1cb702f31376",
   "metadata": {},
   "source": [
    "Exercise 4: \n",
    "Write a Python program that prompts the user to input a string and converts it to an integer. Use try-except blocks to handle any exceptions that might occur\n"
   ]
  },
  {
   "cell_type": "code",
   "execution_count": 72,
   "id": "eeff22dc-3d54-4321-bd66-2766cc1b4253",
   "metadata": {},
   "outputs": [
    {
     "name": "stdin",
     "output_type": "stream",
     "text": [
      "Please enter a number:  data\n"
     ]
    },
    {
     "name": "stdout",
     "output_type": "stream",
     "text": [
      "Error: The input is not a valid integer.\n"
     ]
    }
   ],
   "source": [
    "# Prompt the user to input a string\n",
    "user_input = input(\"Please enter a number: \")\n",
    "\n",
    "try:\n",
    "    # Try converting the input string to an integer\n",
    "    converted_integer = int(user_input)\n",
    "    print(f\"The converted integer is: {converted_integer}\")\n",
    "except ValueError:\n",
    "    # Handle the case when the input is not a valid integer\n",
    "    print(\"Error: The input is not a valid integer.\")\n"
   ]
  },
  {
   "cell_type": "markdown",
   "id": "fcca505e-326c-4926-9d84-44ae12aef2ab",
   "metadata": {},
   "source": [
    "Exercise 5: \n",
    "Write a Python program that prompts the user to input a list of integers and raises an exception if any of the integers in the list are negative.\n",
    "\n"
   ]
  },
  {
   "cell_type": "code",
   "execution_count": 79,
   "id": "34c08dbe-7246-433f-9d87-d62c0d2537c3",
   "metadata": {},
   "outputs": [
    {
     "name": "stdin",
     "output_type": "stream",
     "text": [
      "Please enter a list of integers (separate by space):  1 2 3 -5 \n"
     ]
    },
    {
     "name": "stdout",
     "output_type": "stream",
     "text": [
      "Error: Negative number -5 found in the list!\n"
     ]
    }
   ],
   "source": [
    "# Function to check for negative integers in the list\n",
    "def check_for_negative_integers(integer_list):\n",
    "    for num in integer_list:\n",
    "        if num < 0:\n",
    "            raise ValueError(f\"Error: Negative number {num} found in the list!\")\n",
    "    print(\"All numbers are positive.\")\n",
    "\n",
    "#  inputing a list of integers\n",
    "user_input = input(\"Please enter a list of integers (separate by space): \")\n",
    "\n",
    "try:\n",
    "    integer_list = [int(x) for x in user_input.split()]\n",
    "    \n",
    "    # Check for negative integers\n",
    "    check_for_negative_integers(integer_list)\n",
    "    \n",
    "except ValueError as e:\n",
    "    # Handle invalid input or negative number error\n",
    "    print(e)\n"
   ]
  },
  {
   "cell_type": "markdown",
   "id": "a946df76-d5d2-4fd5-8b2a-76d92f87bb89",
   "metadata": {},
   "source": [
    "Exercise 6:\n",
    "Write a Python program that prompts the user to input a list of integers and computes the average of those integers. Use try-except blocks to handle any exceptions that might occur.use the finally clause to print a message indicating that the program has finished running."
   ]
  },
  {
   "cell_type": "code",
   "execution_count": 82,
   "id": "d135a0e1-8627-43be-b51f-5d06fa5142e8",
   "metadata": {},
   "outputs": [
    {
     "name": "stdin",
     "output_type": "stream",
     "text": [
      "Please enter a list of integers :  1 2 3 4 5 6 \n"
     ]
    },
    {
     "name": "stdout",
     "output_type": "stream",
     "text": [
      "The average of the entered integers is: 3.5\n",
      "The program has finished running.\n"
     ]
    }
   ],
   "source": [
    "# Function to computing the average of the list of integers\n",
    "def compute_average(integer_list):\n",
    "    return sum(integer_list) / len(integer_list)\n",
    "\n",
    "# inputing a list of integers\n",
    "user_input = input(\"Please enter a list of integers : \")\n",
    "\n",
    "try:\n",
    "    # Converting  the input string to a list of integers\n",
    "    integer_list = [int(x) for x in user_input.split()]\n",
    "    \n",
    "    # Ensuring  that  there are integers to compute the average\n",
    "    if len(integer_list) == 0:\n",
    "        raise ValueError(\"The list cannot be empty.\")\n",
    "    \n",
    "    # Computing  the average of the integers\n",
    "    average = compute_average(integer_list)\n",
    "    print(f\"The average of the entered integers is: {average}\")\n",
    "    \n",
    "except ValueError as e:\n",
    "    print(f\"Error: {e}\")\n",
    "    \n",
    "except ZeroDivisionError:\n",
    "    # Handlling division by zero \n",
    "    print(\"Error: Cannot compute average of an empty list.\")\n",
    "\n",
    "finally:\n",
    "    print(\"The program has finished running.\")\n"
   ]
  },
  {
   "cell_type": "markdown",
   "id": "e000ea4d-417f-45e0-9338-4935daf41cd1",
   "metadata": {},
   "source": [
    "# Exercise 7 :\n",
    "Write a Python program that prompts the user to input a filename and writes a string to that file. Use try-except blocks to handle any exceptions that might occur and print a welcome message if there is no exception occurred.\n"
   ]
  },
  {
   "cell_type": "code",
   "execution_count": 87,
   "id": "5fef204c-9c5f-4cf8-9704-994814ac73d0",
   "metadata": {},
   "outputs": [
    {
     "name": "stdin",
     "output_type": "stream",
     "text": [
      "Please enter the filename (including extension, e.g., example.txt):  writting.txt\n"
     ]
    },
    {
     "name": "stdout",
     "output_type": "stream",
     "text": [
      "Successfully wrote to the file writting.txt. Welcome!\n"
     ]
    }
   ],
   "source": [
    "file_name = input(\"Please enter the filename (including extension, e.g., example.txt): \")\n",
    "\n",
    "# Define the string to be written to the file\n",
    "content = \"Hello! This is a string written to the file.\"\n",
    "\n",
    "try:\n",
    "\n",
    "    with open(file_name, 'w') as file:\n",
    "\n",
    "        file.write(content)\n",
    "    \n",
    "    # If  there is no exception occurs, print the success message\n",
    "    print(f\"Successfully wrote to the file {file_name}. Welcome!\")\n",
    "\n",
    "except Exception as e:\n",
    "    #if  some error occured like invalid file name \n",
    "    print(f\"An error occurred: {e}\")\n"
   ]
  },
  {
   "cell_type": "code",
   "execution_count": null,
   "id": "966b7990-9e32-4044-b4c5-e4525e521736",
   "metadata": {},
   "outputs": [],
   "source": []
  }
 ],
 "metadata": {
  "kernelspec": {
   "display_name": "Python [conda env:base] *",
   "language": "python",
   "name": "conda-base-py"
  },
  "language_info": {
   "codemirror_mode": {
    "name": "ipython",
    "version": 3
   },
   "file_extension": ".py",
   "mimetype": "text/x-python",
   "name": "python",
   "nbconvert_exporter": "python",
   "pygments_lexer": "ipython3",
   "version": "3.12.7"
  }
 },
 "nbformat": 4,
 "nbformat_minor": 5
}
